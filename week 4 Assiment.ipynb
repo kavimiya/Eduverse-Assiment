{
 "cells": [
  {
   "cell_type": "markdown",
   "id": "fb3fb2f9",
   "metadata": {},
   "source": [
    "# problem 1:\n",
    "You are given a program with two inputs: one as a password and the second one as a password repeat.\n",
    "Complete and call the given function to output \"Correct\" if the password and repeat are equal, and\n",
    "output \"Wrong\",\n",
    "if they are not.\n",
    "## Sample Input\n",
    "nfs1598\n",
    "nfs1598\n",
    "## Sample Output\n",
    "Correct"
   ]
  },
  {
   "cell_type": "code",
   "execution_count": 2,
   "id": "63b78c74",
   "metadata": {},
   "outputs": [
    {
     "name": "stdout",
     "output_type": "stream",
     "text": [
      "Enter the Password:kavi\n",
      "Re-Enter the Password:kav\n"
     ]
    },
    {
     "data": {
      "text/plain": [
       "'Wrong'"
      ]
     },
     "execution_count": 2,
     "metadata": {},
     "output_type": "execute_result"
    }
   ],
   "source": [
    "password = input(\"Enter the Password:\")\n",
    "repeat = input(\"Re-Enter the Password:\")\n",
    "def validate(pwd1, pwd2):\n",
    "    if pwd1==pwd2:\n",
    "        return 'correct'\n",
    "    else:\n",
    "        return 'Wrong'\n",
    "    \n",
    "validate(password,repeat)\n",
    " #TO DO write your code here\n",
    "## call the function to get output\n"
   ]
  },
  {
   "cell_type": "markdown",
   "id": "f11aa6ae",
   "metadata": {},
   "source": [
    "Problem 2:\n",
    "We are creating our own social network application and need to have a hashtag generator program.\n",
    "Complete the program to output the input text starting with the hashtag (#).\n",
    "Also, if the user entered several words, the program should delete the spaces between them.\n",
    "Sample Input\n",
    "Rajalakshmi eduverse REV\n",
    "Sample Output\n",
    "#RajalakshmieduverseREV"
   ]
  },
  {
   "cell_type": "code",
   "execution_count": 3,
   "id": "d2c9b194",
   "metadata": {},
   "outputs": [
    {
     "name": "stdout",
     "output_type": "stream",
     "text": [
      "Enter your messagekavi kavi\n",
      "#kavikavi\n"
     ]
    }
   ],
   "source": [
    "s = input(\"Enter your message\")\n",
    "def hashtagGen(text):\n",
    "    text=text.replace(\" \",'')\n",
    "    text=\"#\"+text\n",
    "    return text\n",
    " #TO DO write your code here\n",
    "\n",
    "\n",
    "\n",
    "print(hashtagGen(s))"
   ]
  },
  {
   "cell_type": "markdown",
   "id": "3cefe2a7",
   "metadata": {},
   "source": [
    "Problem 3:\n",
    "Celsius to Fahrenheit\n",
    "You are making a Celsius to Fahrenheit converter. Write a function to take the Celsius value as an\n",
    "argument and return the corresponding Fahrenheit value.\n",
    "Sample Input\n",
    "36\n",
    "Sample Output\n",
    "96.8\n"
   ]
  },
  {
   "cell_type": "code",
   "execution_count": 5,
   "id": "7526ab82",
   "metadata": {},
   "outputs": [
    {
     "name": "stdout",
     "output_type": "stream",
     "text": [
      "Enter the temperature value in celsius:36\n",
      "96.8\n"
     ]
    }
   ],
   "source": [
    "\n",
    "celsius = int(input(\"Enter the temperature value in celsius:\" ))\n",
    "def conv(c):\n",
    "    c=9/5*(c)+32\n",
    "    return c\n",
    " # Hint: Fahrenheit value: 9/5 * celsius + 32\n",
    "\n",
    "fahrenheit = conv(celsius)\n",
    "print(fahrenheit)\n"
   ]
  },
  {
   "cell_type": "markdown",
   "id": "c1e8c99d",
   "metadata": {},
   "source": [
    "Problem 4:\n",
    "Write a function that will take in an unknown number of arguments and multiply all of them together and\n",
    "run the function for these 2 sets of numbers:\n",
    "1,2,3,4,5\n",
    "12,13,14\n",
    "Sample Output:\n",
    "120\n",
    "2184\n"
   ]
  },
  {
   "cell_type": "code",
   "execution_count": 26,
   "id": "b390393f",
   "metadata": {},
   "outputs": [
    {
     "name": "stdout",
     "output_type": "stream",
     "text": [
      "120\n",
      "2184\n"
     ]
    }
   ],
   "source": [
    "\n",
    "def multiply_all(*x):\n",
    "    c=1\n",
    "    for i in x:\n",
    "        c=c*i\n",
    "    return c\n",
    "#TO DO write your code here\n",
    "print(multiply_all(1,2,3,4,5))\n",
    "print(multiply_all(12,13,14))\n"
   ]
  },
  {
   "cell_type": "markdown",
   "id": "792ab832",
   "metadata": {},
   "source": [
    "Problem 5:\n",
    "Write python function to Callculate fall distance d, include the default value for earth's gravity and\n",
    "give programmers the option of specifying a different value for g if they choose\n",
    "Sample Output:\n",
    "fall_distance(3)\n",
    "44.145\n"
   ]
  },
  {
   "cell_type": "code",
   "execution_count": 30,
   "id": "db4d3888",
   "metadata": {},
   "outputs": [
    {
     "name": "stdout",
     "output_type": "stream",
     "text": [
      "44.145\n"
     ]
    }
   ],
   "source": [
    "def fall_distance(x,g=9.81):\n",
    "    \n",
    "    return 1/2*(g)*(x**2)\n",
    "    \n",
    " #TO DO write your code here\n",
    "\n",
    "print(fall_distance(3))\n"
   ]
  },
  {
   "cell_type": "markdown",
   "id": "2a93d83b",
   "metadata": {},
   "source": [
    "Problem 6:\n",
    "write the function to print the items in the dictionary below\n",
    "dict = {\"First Name\":\"John\", \"Last Name\":\"Wick\",\"Nickname\":\"Jojo\", \"Middle Name\":\"Candle\"}\n",
    "to as per the Sample OutPut\n",
    "Sample Output:\n",
    "First Name is John\n",
    "Last Name is Wick\n",
    "Nickname is Jojo\n",
    "Middle Name is Candle"
   ]
  },
  {
   "cell_type": "code",
   "execution_count": 56,
   "id": "63a9e61f",
   "metadata": {},
   "outputs": [
    {
     "name": "stdout",
     "output_type": "stream",
     "text": [
      "First Name is John\n",
      "Last Name is Wick\n",
      "Nickname is Jojo\n",
      "Middle Name is Candle\n",
      "None\n"
     ]
    }
   ],
   "source": [
    "dict = {\"First Name\":\"John\", \"Last Name\":\"Wick\",\"Nickname\":\"Jojo\", \"Middle Name\":\"Candle\"}\n",
    "def all_name(**kwargs):\n",
    "    for i,ii in kwargs.items():\n",
    "        print(f'{i} is {ii}')\n",
    " ##TO DO write your code here\n",
    "\n",
    "print(all_name(**dict))"
   ]
  },
  {
   "cell_type": "raw",
   "id": "3ac6487c",
   "metadata": {},
   "source": [
    "``Problem 7:\n",
    "You work on a payroll program. \n",
    "Given a list of salaries, you need to take the bonus everybody is getting as input and\n",
    "increase all the salaries by that amount. Output the resulting list.\n",
    "sample Output Input 420 Your Output [2420, 2220, 3520, 4820, 1920]\n"
   ]
  },
  {
   "cell_type": "code",
   "execution_count": 58,
   "id": "b1675e3b",
   "metadata": {},
   "outputs": [
    {
     "name": "stdout",
     "output_type": "stream",
     "text": [
      "Enter the bonus amount:420\n",
      "[2420, 2220, 3520, 4820, 1920]\n"
     ]
    }
   ],
   "source": [
    "salaries = [2000, 1800, 3100, 4400, 1500]\n",
    "bonus = int(input(\"Enter the bonus amount:\"))\n",
    "salaries=list(map(lambda a:a+bonus,salaries))\n",
    "## TO Do: write your code here\n",
    "## Hint use the map() , Lambda function \n",
    "\n",
    "print(salaries)"
   ]
  },
  {
   "cell_type": "markdown",
   "id": "cef4b58c",
   "metadata": {},
   "source": [
    "Problem 8:\n",
    "Write a recursive function that will sum all numbers from 1 to n. n is the argument of the function.\n",
    "Sample Input:\n",
    "4\n",
    "Sample Output:\n",
    "10\n"
   ]
  },
  {
   "cell_type": "code",
   "execution_count": 63,
   "id": "5aa38787",
   "metadata": {},
   "outputs": [
    {
     "name": "stdout",
     "output_type": "stream",
     "text": [
      "10\n"
     ]
    }
   ],
   "source": [
    "def summation(n):\n",
    "    if n==1:\n",
    "        return n\n",
    "    else:\n",
    "        return (n+summation(n-1))\n",
    "    \n",
    "print(summation(4))"
   ]
  },
  {
   "cell_type": "code",
   "execution_count": null,
   "id": "31bdf5c7",
   "metadata": {},
   "outputs": [],
   "source": []
  },
  {
   "cell_type": "code",
   "execution_count": null,
   "id": "6442eba7",
   "metadata": {},
   "outputs": [],
   "source": []
  },
  {
   "cell_type": "code",
   "execution_count": null,
   "id": "c178e662",
   "metadata": {},
   "outputs": [],
   "source": []
  }
 ],
 "metadata": {
  "kernelspec": {
   "display_name": "Python 3 (ipykernel)",
   "language": "python",
   "name": "python3"
  },
  "language_info": {
   "codemirror_mode": {
    "name": "ipython",
    "version": 3
   },
   "file_extension": ".py",
   "mimetype": "text/x-python",
   "name": "python",
   "nbconvert_exporter": "python",
   "pygments_lexer": "ipython3",
   "version": "3.9.7"
  }
 },
 "nbformat": 4,
 "nbformat_minor": 5
}
