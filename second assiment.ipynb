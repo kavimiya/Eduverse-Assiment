{
 "cells": [
  {
   "cell_type": "markdown",
   "id": "3e1b1aee",
   "metadata": {},
   "source": [
    "- 1.Minimum 8 characters.\n",
    "- 2.The alphabet must be between [a-z]\n",
    "- 3.At least one alphabet should be of Upper Case [A-Z]\n",
    "- 4.At least 1 number or digit between [0-9]\n",
    "- 5.At least 1 character from [ _ or @ or $ ]\n"
   ]
  },
  {
   "cell_type": "code",
   "execution_count": null,
   "id": "c8df3eab",
   "metadata": {},
   "outputs": [],
   "source": [
    "password=input(\"Enter Your password:\")\n",
    "a=0\n",
    "b=0\n",
    "c=0\n",
    "d=0\n",
    "if len(password)>=8:\n",
    "    for i in password:\n",
    "        if 65<=ord(i)<=90 or 97<=ord(i)<=122 or 48<=ord(i)<=57 or i==\"@\" or i=='$' or i=='_':\n",
    "            for ii in password:\n",
    "                if 65<=ord(ii)<=90:\n",
    "                    a+=1\n",
    "                elif 97<=ord(ii)<=122:\n",
    "                    b+=1\n",
    "                elif 48<=ord(ii)<=57:\n",
    "                    c+=1\n",
    "                elif ii==\"@\" or ii=='$' or ii=='_':\n",
    "                    d+=1\n",
    "                else:\n",
    "                    print(\"wrong input:\")\n",
    " \n",
    "\n",
    "\n",
    "if a>0 and b>0 and c>0 and d>0:\n",
    "    print(\"Your password is corrcet :\",password)\n",
    "else:\n",
    "    if a<=0:\n",
    "        print(\"Missing capliter letter\")\n",
    "    if b<=0:\n",
    "        print(\"Missing small letter\")\n",
    "    if c<=0:\n",
    "        print(\"Missing number\")\n",
    "    if d<=0:\n",
    "        print(\"Missing for @ , $, _ \")\n",
    "  "
   ]
  },
  {
   "cell_type": "code",
   "execution_count": null,
   "id": "e47b808e",
   "metadata": {},
   "outputs": [],
   "source": []
  },
  {
   "cell_type": "raw",
   "id": "041b282b",
   "metadata": {},
   "source": [
    "Problem 2:\n",
    "Data scientist getting time data as in string format from real-time IoT Machines like, time =\n",
    "'20:26:45',\n",
    "Actuly they want to anaysis time data with hours , miniutes and seconds separatly.\n",
    "How will you help them to seperate this string data into the following output\n",
    "hours:20\n",
    "miniutes:26\n",
    "seconds:45\n"
   ]
  },
  {
   "cell_type": "code",
   "execution_count": null,
   "id": "fe2d05b2",
   "metadata": {},
   "outputs": [],
   "source": [
    "time_=\"20:26:45\"\n",
    "m=time_.split(\":\")\n",
    "print(f\"Hour:{m[0]}\\nMinutes:{m[1]}\\nSeconds:{m[2]} \")"
   ]
  },
  {
   "cell_type": "raw",
   "id": "bd80acea",
   "metadata": {},
   "source": [
    "Problem 3:\n",
    "Write a Python program to search a specific word in a string.\n",
    "Input:\n",
    "Enter a String: I am a python programmer\n",
    "Enter a word to search: python\n",
    "Expected output\n",
    "python exists in string\n"
   ]
  },
  {
   "cell_type": "code",
   "execution_count": 3,
   "id": "e818dea1",
   "metadata": {},
   "outputs": [
    {
     "name": "stdout",
     "output_type": "stream",
     "text": [
      "Enter a string:i am hacker in world\n",
      "enter a word to serarch: hacker\n",
      "your input is: hacker\n"
     ]
    }
   ],
   "source": [
    "ll=input(\"Enter a string:\")\n",
    "l1=input(\"enter a word to serarch: \")\n",
    "l2=0\n",
    "mm=ll.split(' ')\n",
    "if l1 in ll:\n",
    "    print(f\"input here  is: {l1}\")\n",
    "else:\n",
    "    print(f\"{l1} exists in string\")\n",
    "        \n",
    "        \n"
   ]
  },
  {
   "cell_type": "raw",
   "id": "5361e871",
   "metadata": {},
   "source": [
    "Problem 4:\n",
    "Write a python program to remove duplicates in a string.\n",
    "Input: pythonlobby\n",
    "Expected output\n",
    "Result is: p y t h o n l b"
   ]
  },
  {
   "cell_type": "code",
   "execution_count": null,
   "id": "62920f57",
   "metadata": {},
   "outputs": [],
   "source": [
    "m=input('enter a string:')\n",
    "mm=' '\n",
    "for i in m:\n",
    "    if i not in mm:\n",
    "        mm+=i\n",
    "    \n",
    "print(mm)\n",
    "        "
   ]
  }
 ],
 "metadata": {
  "kernelspec": {
   "display_name": "Python 3 (ipykernel)",
   "language": "python",
   "name": "python3"
  },
  "language_info": {
   "codemirror_mode": {
    "name": "ipython",
    "version": 3
   },
   "file_extension": ".py",
   "mimetype": "text/x-python",
   "name": "python",
   "nbconvert_exporter": "python",
   "pygments_lexer": "ipython3",
   "version": "3.9.7"
  }
 },
 "nbformat": 4,
 "nbformat_minor": 5
}
