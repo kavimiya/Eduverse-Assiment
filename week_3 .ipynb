{
 "cells": [
  {
   "cell_type": "raw",
   "id": "25dc2784",
   "metadata": {},
   "source": [
    "Problem 1:\n",
    "Use the following dictionary objects for this assignment:\n",
    "dict_aisle = { \"A100\": ['bananas', 'milk', 'bread'],\n",
    " \"A101\": ['pens', 'pencils', 'paper'],\n",
    " \"A102\": ['canned_peas', 'canned_carrots', 'canned_beans'],\n",
    " \"A103\": ['plates', 'glasses', 'table_cloth']\n",
    " }\n",
    "dict_employee_IDs = {\"ID01\": 'John Papa',\n",
    " \"ID02\": 'David Thompson',\n",
    " \"ID03\": 'Terry Gao',\n",
    " \"ID04\": 'Barry Tex'}\n",
    "Perform the following Operation on given dictionary data:\n",
    "1.Print the name of the ID \"ID02\" from the dictionary dict_employee_IDs\n",
    "2.Delete aisle \"A102\" from the dictionary dict_aisle"
   ]
  },
  {
   "cell_type": "code",
   "execution_count": 66,
   "id": "b9ca09b4",
   "metadata": {},
   "outputs": [],
   "source": [
    "dict_aisle = { \"A100\": ['bananas', 'milk', 'bread'],\n",
    " \"A101\": ['pens', 'pencils', 'paper'],\n",
    " \"A102\": ['canned_peas', 'canned_carrots', 'canned_beans'],\n",
    " \"A103\": ['plates', 'glasses', 'table_cloth']\n",
    " }"
   ]
  },
  {
   "cell_type": "code",
   "execution_count": 67,
   "id": "965ef82d",
   "metadata": {},
   "outputs": [],
   "source": [
    "dict_employee_IDs = {\"ID01\": 'John Papa',\n",
    " \"ID02\": 'David Thompson',\n",
    " \"ID03\": 'Terry Gao',\n",
    " \"ID04\": 'Barry Tex'}"
   ]
  },
  {
   "cell_type": "code",
   "execution_count": 68,
   "id": "27d29592",
   "metadata": {},
   "outputs": [
    {
     "name": "stdout",
     "output_type": "stream",
     "text": [
      "David Thompson\n"
     ]
    }
   ],
   "source": [
    "print(dict_employee_IDs['ID02'])"
   ]
  },
  {
   "cell_type": "code",
   "execution_count": 69,
   "id": "79e12275",
   "metadata": {},
   "outputs": [
    {
     "data": {
      "text/plain": [
       "['canned_peas', 'canned_carrots', 'canned_beans']"
      ]
     },
     "execution_count": 69,
     "metadata": {},
     "output_type": "execute_result"
    }
   ],
   "source": [
    "dict_aisle.pop('A102')"
   ]
  },
  {
   "cell_type": "code",
   "execution_count": 72,
   "id": "206c72e3",
   "metadata": {},
   "outputs": [
    {
     "data": {
      "text/plain": [
       "{'A100': ['bananas', 'milk', 'bread'],\n",
       " 'A101': ['pens', 'pencils', 'paper'],\n",
       " 'A103': ['plates', 'glasses', 'table_cloth']}"
      ]
     },
     "execution_count": 72,
     "metadata": {},
     "output_type": "execute_result"
    }
   ],
   "source": [
    "dict_aisle"
   ]
  },
  {
   "cell_type": "raw",
   "id": "eac71fb8",
   "metadata": {},
   "source": [
    "Problem 2:\n",
    "Use the following dictionary objects for this assignment:\n",
    "dict_aisle = { \"A100\": ['bananas', 'milk', 'bread'],\n",
    " \"A101\": ['pens', 'pencils', 'paper'],\n",
    " \"A102\": ['canned_peas', 'canned_carrots', 'canned_beans'],\n",
    " \"A103\": ['plates', 'glasses', 'table_cloth']\n",
    " }\n",
    "Perform the following Operation on given dictionary data:\n",
    "1.Prompt the user to enter the name of the item:\n",
    " a.If found, display the aisle number of the item.\n",
    " b.if not found, display a message \"Item Not Found!!\"\n",
    "2.Add the following aisle to the dict_aisle:\n",
    " a.Aisle No: B101\n",
    " b.Items on aisle: kids toys, kids clothes\n",
    "3. Print the dict_aisle as below:\n",
    "A100 : ['bananas', 'milk', 'bread']\n",
    "A101 : ['pens', 'pencils', 'paper']\n",
    "A102 : ['canned peas', 'canned carrots', 'canned beans']\n",
    "A103 : ['plates', 'glasses', 'table cloth']\n",
    "B101 : ['Kids toys', 'Kids cloths']\n"
   ]
  },
  {
   "cell_type": "code",
   "execution_count": 93,
   "id": "3b80d822",
   "metadata": {},
   "outputs": [],
   "source": [
    "dict_aisle = { \"A100\": ['bananas', 'milk', 'bread'],\n",
    " \"A101\": ['pens', 'pencils', 'paper'],\n",
    " \"A102\": ['canned_peas', 'canned_carrots', 'canned_beans'],\n",
    " \"A103\": ['plates', 'glasses', 'table_cloth']\n",
    " }"
   ]
  },
  {
   "cell_type": "code",
   "execution_count": 96,
   "id": "6cccc261",
   "metadata": {},
   "outputs": [
    {
     "name": "stdout",
     "output_type": "stream",
     "text": [
      "Enter a Itemmilk\n",
      "A100\n"
     ]
    }
   ],
   "source": [
    "item=input(\"Enter a Item\")\n",
    "m=0\n",
    "for i in dict_aisle:\n",
    "    if item in dict_aisle[i]:\n",
    "        print(i)\n",
    "        m=1\n",
    "if m == 0:\n",
    "    print(\"Item Not Found!!\")\n"
   ]
  },
  {
   "cell_type": "code",
   "execution_count": 7,
   "id": "64f7925f",
   "metadata": {},
   "outputs": [],
   "source": [
    "dict_aisle.update({'B101':['Kids toys', 'Kids cloths']})\n"
   ]
  },
  {
   "cell_type": "code",
   "execution_count": 8,
   "id": "664b508f",
   "metadata": {},
   "outputs": [
    {
     "data": {
      "text/plain": [
       "{'A100': ['bananas', 'milk', 'bread'],\n",
       " 'A101': ['pens', 'pencils', 'paper'],\n",
       " 'A102': ['canned_peas', 'canned_carrots', 'canned_beans'],\n",
       " 'A103': ['plates', 'glasses', 'table_cloth'],\n",
       " 'B101': ['Kids toys', 'Kids cloths']}"
      ]
     },
     "execution_count": 8,
     "metadata": {},
     "output_type": "execute_result"
    }
   ],
   "source": [
    "dict_aisle"
   ]
  },
  {
   "cell_type": "raw",
   "id": "0b990a47",
   "metadata": {},
   "source": [
    "Problem 3:\n",
    "Use the following dictionary objects for this assignment:\n",
    "# Fruit : price\n",
    "inventory = { \"banana\": 0.25,\n",
    " \"watermelon\": 5.25,\n",
    " \"orange\": 0.50,\n",
    " \"peer\": 0.40,\n",
    " \"apple\": 0.30,\n",
    " \"kiwi\": 0.75,\n",
    " }\n",
    "Perform the following Operation on given dictionary data:\n",
    "1.Prompt the user to enter the quantity of each fruit and display the total cost of the purchase."
   ]
  },
  {
   "cell_type": "code",
   "execution_count": 1,
   "id": "daf08a20",
   "metadata": {},
   "outputs": [],
   "source": [
    "inventory = { \"banana\": 0.25,\n",
    " \"watermelon\": 5.25,\n",
    " \"orange\": 0.50,\n",
    " \"peer\": 0.40,\n",
    " \"apple\": 0.30,\n",
    " \"kiwi\": 0.75,\n",
    " }"
   ]
  },
  {
   "cell_type": "code",
   "execution_count": 23,
   "id": "4410c024",
   "metadata": {},
   "outputs": [
    {
     "name": "stdout",
     "output_type": "stream",
     "text": [
      "enter a quantity:3\n",
      "Total Prize: 22\n"
     ]
    }
   ],
   "source": [
    "qu=int(input(\"Enter a Quantity:\"))\n",
    "m=inventory.values()\n",
    "mm=0\n",
    "for i in m:\n",
    "    mm+=i*qu\n",
    "    \n",
    "print('Total Prize:',int(mm))"
   ]
  }
 ],
 "metadata": {
  "kernelspec": {
   "display_name": "Python 3 (ipykernel)",
   "language": "python",
   "name": "python3"
  },
  "language_info": {
   "codemirror_mode": {
    "name": "ipython",
    "version": 3
   },
   "file_extension": ".py",
   "mimetype": "text/x-python",
   "name": "python",
   "nbconvert_exporter": "python",
   "pygments_lexer": "ipython3",
   "version": "3.9.7"
  }
 },
 "nbformat": 4,
 "nbformat_minor": 5
}
